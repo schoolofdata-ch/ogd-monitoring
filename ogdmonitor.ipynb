{
 "cells": [
  {
   "cell_type": "markdown",
   "id": "a2f1ecc0-3171-485d-8e93-5c3d0cf8de5f",
   "metadata": {},
   "source": [
    "# OGD Monitoring\n",
    "\n",
    "This notebook runs a quick crunch of the numbers behind opendata.swiss to generate some trendlines of data publication.\n",
    "You can find the complete CSV dataset at [Opendata.swiss](https://opendata.swiss/en/dataset/csv-file-der-datensatze-auf-opendata-swiss). Only two columns are included in the version here."
   ]
  },
  {
   "cell_type": "code",
   "execution_count": 1,
   "id": "703646e9-67f5-4b02-b153-34a9bd678152",
   "metadata": {},
   "outputs": [],
   "source": [
    "import pandas as pd\n",
    "import altair as alt"
   ]
  },
  {
   "cell_type": "code",
   "execution_count": 2,
   "id": "01031b1b-1d40-444d-a827-9ec7c25d3e68",
   "metadata": {},
   "outputs": [],
   "source": [
    "# Define the standard structure\n",
    "PUB_LEVELS = [\n",
    "    { 'key': 'canton', 'en': 'Cantonal' },\n",
    "    { 'key': 'commune', 'en': 'Municipal' },\n",
    "    { 'key': 'confederation', 'en': 'National' },\n",
    "    { 'key': 'other', 'en': 'Other' },\n",
    "]"
   ]
  },
  {
   "cell_type": "code",
   "execution_count": 3,
   "id": "0e3ec569-fbef-4772-9730-cfcc9769f4ab",
   "metadata": {},
   "outputs": [
    {
     "data": {
      "text/plain": [
       "19690"
      ]
     },
     "execution_count": 3,
     "metadata": {},
     "output_type": "execute_result"
    }
   ],
   "source": [
    "# Read in the csv file\n",
    "df = pd.read_csv(\"data/opendataswiss.csv\")\n",
    "\n",
    "df.size # Show number of lines read"
   ]
  },
  {
   "cell_type": "code",
   "execution_count": 4,
   "id": "8199d0c5-b001-4d08-96e0-07fdd513014d",
   "metadata": {},
   "outputs": [
    {
     "data": {
      "text/html": [
       "<div>\n",
       "<style scoped>\n",
       "    .dataframe tbody tr th:only-of-type {\n",
       "        vertical-align: middle;\n",
       "    }\n",
       "\n",
       "    .dataframe tbody tr th {\n",
       "        vertical-align: top;\n",
       "    }\n",
       "\n",
       "    .dataframe thead th {\n",
       "        text-align: right;\n",
       "    }\n",
       "</style>\n",
       "<table border=\"1\" class=\"dataframe\">\n",
       "  <thead>\n",
       "    <tr style=\"text-align: right;\">\n",
       "      <th></th>\n",
       "      <th>created</th>\n",
       "      <th>political_level</th>\n",
       "      <th>year</th>\n",
       "      <th>count</th>\n",
       "    </tr>\n",
       "  </thead>\n",
       "  <tbody>\n",
       "    <tr>\n",
       "      <th>0</th>\n",
       "      <td>2017-07-06T12:52:18.420</td>\n",
       "      <td>canton</td>\n",
       "      <td>2017</td>\n",
       "      <td>1</td>\n",
       "    </tr>\n",
       "    <tr>\n",
       "      <th>1</th>\n",
       "      <td>2017-07-06T12:52:18.420</td>\n",
       "      <td>canton</td>\n",
       "      <td>2017</td>\n",
       "      <td>1</td>\n",
       "    </tr>\n",
       "    <tr>\n",
       "      <th>2</th>\n",
       "      <td>2017-07-06T12:52:18.420</td>\n",
       "      <td>canton</td>\n",
       "      <td>2017</td>\n",
       "      <td>1</td>\n",
       "    </tr>\n",
       "  </tbody>\n",
       "</table>\n",
       "</div>"
      ],
      "text/plain": [
       "                   created political_level  year  count\n",
       "0  2017-07-06T12:52:18.420          canton  2017      1\n",
       "1  2017-07-06T12:52:18.420          canton  2017      1\n",
       "2  2017-07-06T12:52:18.420          canton  2017      1"
      ]
     },
     "execution_count": 4,
     "metadata": {},
     "output_type": "execute_result"
    }
   ],
   "source": [
    "# Create a year column\n",
    "df['year'] = df['created'].str.split('-').apply(lambda x: x[0])\n",
    "df['count'] = 1\n",
    "df.head(3)"
   ]
  },
  {
   "cell_type": "code",
   "execution_count": 5,
   "id": "c4983fe0-2770-42e9-9640-330f2705322a",
   "metadata": {},
   "outputs": [
    {
     "data": {
      "text/html": [
       "<div>\n",
       "<style scoped>\n",
       "    .dataframe tbody tr th:only-of-type {\n",
       "        vertical-align: middle;\n",
       "    }\n",
       "\n",
       "    .dataframe tbody tr th {\n",
       "        vertical-align: top;\n",
       "    }\n",
       "\n",
       "    .dataframe thead th {\n",
       "        text-align: right;\n",
       "    }\n",
       "</style>\n",
       "<table border=\"1\" class=\"dataframe\">\n",
       "  <thead>\n",
       "    <tr style=\"text-align: right;\">\n",
       "      <th></th>\n",
       "      <th>year</th>\n",
       "      <th>political_level</th>\n",
       "      <th>count</th>\n",
       "    </tr>\n",
       "  </thead>\n",
       "  <tbody>\n",
       "    <tr>\n",
       "      <th>0</th>\n",
       "      <td>2015</td>\n",
       "      <td>canton</td>\n",
       "      <td>1253</td>\n",
       "    </tr>\n",
       "    <tr>\n",
       "      <th>1</th>\n",
       "      <td>2015</td>\n",
       "      <td>confederation</td>\n",
       "      <td>3195</td>\n",
       "    </tr>\n",
       "    <tr>\n",
       "      <th>2</th>\n",
       "      <td>2015</td>\n",
       "      <td>other</td>\n",
       "      <td>84</td>\n",
       "    </tr>\n",
       "  </tbody>\n",
       "</table>\n",
       "</div>"
      ],
      "text/plain": [
       "   year political_level  count\n",
       "0  2015          canton   1253\n",
       "1  2015   confederation   3195\n",
       "2  2015           other     84"
      ]
     },
     "execution_count": 5,
     "metadata": {},
     "output_type": "execute_result"
    }
   ],
   "source": [
    "# Group the data by Year and Political Level\n",
    "grouped = df.groupby(['year', 'political_level'])\n",
    "\n",
    "# Aggregate the values for each group using the sum function\n",
    "summed = grouped['count'].sum()\n",
    "\n",
    "# Print the results\n",
    "summed_df = summed.to_frame().reset_index()\n",
    "\n",
    "summed_df.head(3)"
   ]
  },
  {
   "cell_type": "code",
   "execution_count": 12,
   "id": "0b80a9cb-62cc-437e-b5b8-ece0d5c4fda7",
   "metadata": {},
   "outputs": [
    {
     "name": "stdout",
     "output_type": "stream",
     "text": [
      "https://vega.github.io/editor/#/url/vega-lite/N4Igxg9gdgZglgcxALlANzgUwO4tJKAFzigFcJSBnAdTgBNCALFAZgAY2AacaYsiygAlMiRoVYcAvpO50AhoTl4QUOQFtMKEPMUBaAEZ0ArJjp0OMTACY5ARgAsYJ2wDs+oy4CcdF+c8A2W30wEBkQNTkAJwBrZUIATwAHTWQQABsSTTDMKEg6EiRUHjSISOV4TDS6LUSIDOIwOTSAfTTMNEqQbgTkrSgINRIm0O4AD3KsKq14zCiukB6Uhcw1WsjhsPiJyurUyFIiecWtAEdSOSI4RWIO0LDCdahKGFK1FABtUGwSOghcZE+IAgiS0+0O3AqUz2FHBIDklFBpDUpDSCjgHWaYPEkgAutwEJEKIl9FsASAZnMcbjuAASShgRgrJSpMSERKUZAAek5HQQcgAdAgroxSPp+XAIJz6YyIjzMHzdPVMDyjPzbP5+Sx+QArSjQeY6eGYQgIoqGgzGUzmNiWGwOJxgVzuLw+PyBYIfUAUsqpKxsWxGea1epwRotNodNKgi6EfXcLEoWxWIwsGRe2Y+kB+gNBupXUNNVrtTrQ2CmTDrYhxngHcTIFi2TxGNPkjNabOB7jB-NhouRrQQJgV+YJ5AADnsLe97f9-lzId7EZL4Bj1dH9istinbd9s-nPcLS6j0LUyKgmnjMLr-iMnm3c136v3DUPxePPDLdAraLXV5QRjYfx70zbM5y7PMX3DN8ByHMpL1rFArGAmdbBcZ8Cyg-s9lXKARz-ZB-ECZDHzQ8CF1fLCeFPA4LxrQ5kEnTh0wfLN-VIkBu0gvtlwISwv0rCVcPg+jUyY1sWOzdjOIw7j30HRk4LoutbBYZsxOnR8x3QxdoOwohfwQ8ct3UndWNsLSyIPTCeIGM9aPXUTmJA-0LI4iCZKPGCFLwwyWCQkyJP9TxtIonicJ8+jbDYYizOCyyuM81J5OHYS60c8TnL9ELrPfRp9KEpSUHsVwYr9LL4o83SPz478qwK0djKcmdN2y2To3yiLlJcRqMua2xWsSqi7M6xCrHSjTWJaiqdMo3jywEgzIv8prdymtzyJyryUsKhjPGW3rVqsAaqry2N6vw-wxyAgLMqO6bQty2yaJG5BUNKtgrDu9arLa0saoW87DKMfaJrKr7pJm5dksU0drpWyaWGO2bwtSlBCLHd6xqRmzqPPF71UxxH7s2v75p-QH6KQqlJCAA\n"
     ]
    }
   ],
   "source": [
    "# Create a bar chart using Altair\n",
    "chart = alt.Chart(summed_df).transform_window(\n",
    "    cumulative_count=\"count(count)\",\n",
    "    groupby=[\"year\"]\n",
    ").mark_line().encode(\n",
    "    x='year:T',\n",
    "    y='count:Q',\n",
    "    color='political_level:N'\n",
    ")\n",
    "\n",
    "# Display the chart\n",
    "print(chart.to_url())"
   ]
  }
 ],
 "metadata": {
  "kernelspec": {
   "display_name": "vega",
   "language": "python",
   "name": "vega"
  },
  "language_info": {
   "codemirror_mode": {
    "name": "ipython",
    "version": 3
   },
   "file_extension": ".py",
   "mimetype": "text/x-python",
   "name": "python",
   "nbconvert_exporter": "python",
   "pygments_lexer": "ipython3",
   "version": "3.11.6"
  }
 },
 "nbformat": 4,
 "nbformat_minor": 5
}
